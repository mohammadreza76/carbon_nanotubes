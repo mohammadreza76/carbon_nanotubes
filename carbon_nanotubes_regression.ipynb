{
  "nbformat": 4,
  "nbformat_minor": 0,
  "metadata": {
    "colab": {
      "name": "carbon_nanotubes_regression.ipynb",
      "provenance": [],
      "collapsed_sections": [],
      "authorship_tag": "ABX9TyPylhG26blBltPNIskKlv76",
      "include_colab_link": true
    },
    "kernelspec": {
      "name": "python3",
      "display_name": "Python 3"
    },
    "accelerator": "TPU"
  },
  "cells": [
    {
      "cell_type": "markdown",
      "metadata": {
        "id": "view-in-github",
        "colab_type": "text"
      },
      "source": [
        "<a href=\"https://colab.research.google.com/github/mohammadreza76/carbon_nanotubes/blob/master/carbon_nanotubes_regression.ipynb\" target=\"_parent\"><img src=\"https://colab.research.google.com/assets/colab-badge.svg\" alt=\"Open In Colab\"/></a>"
      ]
    },
    {
      "cell_type": "markdown",
      "metadata": {
        "id": "5irg0DO3-9Ft",
        "colab_type": "text"
      },
      "source": [
        "## Importing the libraries"
      ]
    },
    {
      "cell_type": "code",
      "metadata": {
        "id": "-b0pqhgdI0M6",
        "colab_type": "code",
        "colab": {}
      },
      "source": [
        "import numpy as np\n",
        "import pandas as pd\n",
        "import matplotlib.pyplot as plt\n",
        "from sklearn.model_selection import train_test_split\n",
        "from sklearn.linear_model import LinearRegression\n",
        "from sklearn.preprocessing import StandardScaler\n",
        "from sklearn.metrics import r2_score\n",
        "from sklearn.model_selection import cross_val_score\n",
        "from sklearn.svm import SVR"
      ],
      "execution_count": null,
      "outputs": []
    },
    {
      "cell_type": "markdown",
      "metadata": {
        "id": "C4PE_jV4_N4o",
        "colab_type": "text"
      },
      "source": [
        "## Importing the dataset"
      ]
    },
    {
      "cell_type": "code",
      "metadata": {
        "id": "gYDKVx9fJYL_",
        "colab_type": "code",
        "colab": {}
      },
      "source": [
        "data = pd.read_csv('carbon_nanotubes.csv',sep=';')"
      ],
      "execution_count": null,
      "outputs": []
    },
    {
      "cell_type": "code",
      "metadata": {
        "id": "j62uHh9EJg0Y",
        "colab_type": "code",
        "colab": {
          "base_uri": "https://localhost:8080/",
          "height": 223
        },
        "outputId": "4b72e095-d5b4-4611-9e44-caa0cfceed46"
      },
      "source": [
        "data.head(5)"
      ],
      "execution_count": null,
      "outputs": [
        {
          "output_type": "execute_result",
          "data": {
            "text/html": [
              "<div>\n",
              "<style scoped>\n",
              "    .dataframe tbody tr th:only-of-type {\n",
              "        vertical-align: middle;\n",
              "    }\n",
              "\n",
              "    .dataframe tbody tr th {\n",
              "        vertical-align: top;\n",
              "    }\n",
              "\n",
              "    .dataframe thead th {\n",
              "        text-align: right;\n",
              "    }\n",
              "</style>\n",
              "<table border=\"1\" class=\"dataframe\">\n",
              "  <thead>\n",
              "    <tr style=\"text-align: right;\">\n",
              "      <th></th>\n",
              "      <th>Chiral indice n</th>\n",
              "      <th>Chiral indice m</th>\n",
              "      <th>Initial atomic coordinate u</th>\n",
              "      <th>Initial atomic coordinate v</th>\n",
              "      <th>Initial atomic coordinate w</th>\n",
              "      <th>Calculated atomic coordinates u'</th>\n",
              "      <th>Calculated atomic coordinates v'</th>\n",
              "      <th>Calculated atomic coordinates w'</th>\n",
              "    </tr>\n",
              "  </thead>\n",
              "  <tbody>\n",
              "    <tr>\n",
              "      <th>0</th>\n",
              "      <td>2</td>\n",
              "      <td>1</td>\n",
              "      <td>0,679005</td>\n",
              "      <td>0,701318</td>\n",
              "      <td>0,017033</td>\n",
              "      <td>0,721039</td>\n",
              "      <td>0,730232</td>\n",
              "      <td>0,017014</td>\n",
              "    </tr>\n",
              "    <tr>\n",
              "      <th>1</th>\n",
              "      <td>2</td>\n",
              "      <td>1</td>\n",
              "      <td>0,717298</td>\n",
              "      <td>0,642129</td>\n",
              "      <td>0,231319</td>\n",
              "      <td>0,738414</td>\n",
              "      <td>0,65675</td>\n",
              "      <td>0,232369</td>\n",
              "    </tr>\n",
              "    <tr>\n",
              "      <th>2</th>\n",
              "      <td>2</td>\n",
              "      <td>1</td>\n",
              "      <td>0,489336</td>\n",
              "      <td>0,303751</td>\n",
              "      <td>0,088462</td>\n",
              "      <td>0,477676</td>\n",
              "      <td>0,263221</td>\n",
              "      <td>0,088712</td>\n",
              "    </tr>\n",
              "    <tr>\n",
              "      <th>3</th>\n",
              "      <td>2</td>\n",
              "      <td>1</td>\n",
              "      <td>0,413957</td>\n",
              "      <td>0,632996</td>\n",
              "      <td>0,040843</td>\n",
              "      <td>0,408823</td>\n",
              "      <td>0,657897</td>\n",
              "      <td>0,039796</td>\n",
              "    </tr>\n",
              "    <tr>\n",
              "      <th>4</th>\n",
              "      <td>2</td>\n",
              "      <td>1</td>\n",
              "      <td>0,334292</td>\n",
              "      <td>0,543401</td>\n",
              "      <td>0,15989</td>\n",
              "      <td>0,303349</td>\n",
              "      <td>0,558807</td>\n",
              "      <td>0,157373</td>\n",
              "    </tr>\n",
              "  </tbody>\n",
              "</table>\n",
              "</div>"
            ],
            "text/plain": [
              "   Chiral indice n  ...  Calculated atomic coordinates w'\n",
              "0                2  ...                          0,017014\n",
              "1                2  ...                          0,232369\n",
              "2                2  ...                          0,088712\n",
              "3                2  ...                          0,039796\n",
              "4                2  ...                          0,157373\n",
              "\n",
              "[5 rows x 8 columns]"
            ]
          },
          "metadata": {
            "tags": []
          },
          "execution_count": 39
        }
      ]
    },
    {
      "cell_type": "markdown",
      "metadata": {
        "id": "GnfdQZHh_8SS",
        "colab_type": "text"
      },
      "source": [
        "## Preprocessing data"
      ]
    },
    {
      "cell_type": "code",
      "metadata": {
        "id": "Q4dZ8z57JkR4",
        "colab_type": "code",
        "colab": {}
      },
      "source": [
        "X = data.iloc[:,:-3].values\n",
        "y = data.iloc[:,5:].values"
      ],
      "execution_count": null,
      "outputs": []
    },
    {
      "cell_type": "code",
      "metadata": {
        "id": "5x7NoDqhQHM8",
        "colab_type": "code",
        "colab": {
          "base_uri": "https://localhost:8080/",
          "height": 148
        },
        "outputId": "8f08fde0-7c8a-479c-bd6c-1b3fa0acb542"
      },
      "source": [
        "X"
      ],
      "execution_count": null,
      "outputs": [
        {
          "output_type": "execute_result",
          "data": {
            "text/plain": [
              "array([[2, 1, '0,679005', '0,701318', '0,017033'],\n",
              "       [2, 1, '0,717298', '0,642129', '0,231319'],\n",
              "       [2, 1, '0,489336', '0,303751', '0,088462'],\n",
              "       ...,\n",
              "       [12, 6, '0,923823', '0,568913', '0,819842'],\n",
              "       [12, 6, '0,934978', '0,602319', '0,938889'],\n",
              "       [12, 6, '0,953664', '0,698374', '0,962699']], dtype=object)"
            ]
          },
          "metadata": {
            "tags": []
          },
          "execution_count": 47
        }
      ]
    },
    {
      "cell_type": "code",
      "metadata": {
        "id": "PuMneQurQIUx",
        "colab_type": "code",
        "colab": {
          "base_uri": "https://localhost:8080/",
          "height": 148
        },
        "outputId": "5d1a9213-3537-482a-c640-384a6b08eeb7"
      },
      "source": [
        "y"
      ],
      "execution_count": null,
      "outputs": [
        {
          "output_type": "execute_result",
          "data": {
            "text/plain": [
              "array([['0,721039', '0,730232', '0,017014'],\n",
              "       ['0,738414', '0,65675', '0,232369'],\n",
              "       ['0,477676', '0,263221', '0,088712'],\n",
              "       ...,\n",
              "       ['0,929403', '0,576284', '0,819879'],\n",
              "       ['0,941844', '0,610608', '0,938755'],\n",
              "       ['0,961243', '0,707812', '0,962605']], dtype=object)"
            ]
          },
          "metadata": {
            "tags": []
          },
          "execution_count": 48
        }
      ]
    },
    {
      "cell_type": "markdown",
      "metadata": {
        "id": "otzQEbvj_WEv",
        "colab_type": "text"
      },
      "source": [
        "replacing (,) to (.) in numbers for converting from string to float in future"
      ]
    },
    {
      "cell_type": "code",
      "metadata": {
        "id": "RxVPtd36NCuJ",
        "colab_type": "code",
        "colab": {}
      },
      "source": [
        "def replacing_string(array):\n",
        "  for i in range(len(array)):\n",
        "    for j in range(len(array[i])):\n",
        "      if type(array[i][j]) == str:\n",
        "        array[i][j] = array[i][j].replace(',','.')\n",
        "  return array        "
      ],
      "execution_count": null,
      "outputs": []
    },
    {
      "cell_type": "code",
      "metadata": {
        "id": "Fw6rVn70Np1u",
        "colab_type": "code",
        "colab": {}
      },
      "source": [
        "X = replacing_string(X)"
      ],
      "execution_count": null,
      "outputs": []
    },
    {
      "cell_type": "code",
      "metadata": {
        "id": "dzWThw8ybgBo",
        "colab_type": "code",
        "colab": {}
      },
      "source": [
        "y = replacing_string(y)"
      ],
      "execution_count": null,
      "outputs": []
    },
    {
      "cell_type": "code",
      "metadata": {
        "id": "Qg4BQ3hqbTGI",
        "colab_type": "code",
        "colab": {
          "base_uri": "https://localhost:8080/",
          "height": 148
        },
        "outputId": "d88a2f4e-0959-4de6-c102-8a6a1c7405fc"
      },
      "source": [
        "X"
      ],
      "execution_count": null,
      "outputs": [
        {
          "output_type": "execute_result",
          "data": {
            "text/plain": [
              "array([[2, 1, '0.679005', '0.701318', '0.017033'],\n",
              "       [2, 1, '0.717298', '0.642129', '0.231319'],\n",
              "       [2, 1, '0.489336', '0.303751', '0.088462'],\n",
              "       ...,\n",
              "       [12, 6, '0.923823', '0.568913', '0.819842'],\n",
              "       [12, 6, '0.934978', '0.602319', '0.938889'],\n",
              "       [12, 6, '0.953664', '0.698374', '0.962699']], dtype=object)"
            ]
          },
          "metadata": {
            "tags": []
          },
          "execution_count": 53
        }
      ]
    },
    {
      "cell_type": "code",
      "metadata": {
        "id": "8B-tUZCOcG_7",
        "colab_type": "code",
        "colab": {
          "base_uri": "https://localhost:8080/",
          "height": 148
        },
        "outputId": "d45c21fe-299f-4e5e-da30-b2b210a21b64"
      },
      "source": [
        "y"
      ],
      "execution_count": null,
      "outputs": [
        {
          "output_type": "execute_result",
          "data": {
            "text/plain": [
              "array([['0.721039', '0.730232', '0.017014'],\n",
              "       ['0.738414', '0.65675', '0.232369'],\n",
              "       ['0.477676', '0.263221', '0.088712'],\n",
              "       ...,\n",
              "       ['0.929403', '0.576284', '0.819879'],\n",
              "       ['0.941844', '0.610608', '0.938755'],\n",
              "       ['0.961243', '0.707812', '0.962605']], dtype=object)"
            ]
          },
          "metadata": {
            "tags": []
          },
          "execution_count": 54
        }
      ]
    },
    {
      "cell_type": "markdown",
      "metadata": {
        "id": "RT4IfS78_1VR",
        "colab_type": "text"
      },
      "source": [
        "converting string numbers to float number"
      ]
    },
    {
      "cell_type": "code",
      "metadata": {
        "id": "c-ve_-v7cKcd",
        "colab_type": "code",
        "colab": {}
      },
      "source": [
        "X = X.astype(np.float)\n",
        "y = y.astype(np.float)"
      ],
      "execution_count": null,
      "outputs": []
    },
    {
      "cell_type": "code",
      "metadata": {
        "id": "sGB4hd6ycWZR",
        "colab_type": "code",
        "colab": {
          "base_uri": "https://localhost:8080/",
          "height": 148
        },
        "outputId": "93561f28-4133-44d4-fe12-cd6bb9108099"
      },
      "source": [
        "X"
      ],
      "execution_count": null,
      "outputs": [
        {
          "output_type": "execute_result",
          "data": {
            "text/plain": [
              "array([[ 2.      ,  1.      ,  0.679005,  0.701318,  0.017033],\n",
              "       [ 2.      ,  1.      ,  0.717298,  0.642129,  0.231319],\n",
              "       [ 2.      ,  1.      ,  0.489336,  0.303751,  0.088462],\n",
              "       ...,\n",
              "       [12.      ,  6.      ,  0.923823,  0.568913,  0.819842],\n",
              "       [12.      ,  6.      ,  0.934978,  0.602319,  0.938889],\n",
              "       [12.      ,  6.      ,  0.953664,  0.698374,  0.962699]])"
            ]
          },
          "metadata": {
            "tags": []
          },
          "execution_count": 56
        }
      ]
    },
    {
      "cell_type": "code",
      "metadata": {
        "id": "EJzAGF6hBlWl",
        "colab_type": "code",
        "colab": {
          "base_uri": "https://localhost:8080/",
          "height": 148
        },
        "outputId": "e6b86e88-c84b-474b-f6d6-957e8279e043"
      },
      "source": [
        "y"
      ],
      "execution_count": null,
      "outputs": [
        {
          "output_type": "execute_result",
          "data": {
            "text/plain": [
              "array([[0.721039, 0.730232, 0.017014],\n",
              "       [0.738414, 0.65675 , 0.232369],\n",
              "       [0.477676, 0.263221, 0.088712],\n",
              "       ...,\n",
              "       [0.929403, 0.576284, 0.819879],\n",
              "       [0.941844, 0.610608, 0.938755],\n",
              "       [0.961243, 0.707812, 0.962605]])"
            ]
          },
          "metadata": {
            "tags": []
          },
          "execution_count": 57
        }
      ]
    },
    {
      "cell_type": "markdown",
      "metadata": {
        "id": "-pk0nQcqCZ2g",
        "colab_type": "text"
      },
      "source": [
        "## splitting data to train and test sets"
      ]
    },
    {
      "cell_type": "code",
      "metadata": {
        "id": "ANvlVs7AQLE6",
        "colab_type": "code",
        "colab": {}
      },
      "source": [
        "X_train,X_test,y_train,y_test = train_test_split(X,y,test_size= 0.25,random_state= 42)"
      ],
      "execution_count": null,
      "outputs": []
    },
    {
      "cell_type": "markdown",
      "metadata": {
        "id": "pc4Z7zC7Ck1H",
        "colab_type": "text"
      },
      "source": [
        "## Feature Scaling"
      ]
    },
    {
      "cell_type": "code",
      "metadata": {
        "id": "hYxQ60w5QYm1",
        "colab_type": "code",
        "colab": {}
      },
      "source": [
        "standard_scaler = StandardScaler()\n",
        "X_train = standard_scaler.fit_transform(X_train)\n",
        "X_test = standard_scaler.transform(X_test)"
      ],
      "execution_count": null,
      "outputs": []
    },
    {
      "cell_type": "code",
      "metadata": {
        "id": "GRgXJJbDRjJU",
        "colab_type": "code",
        "colab": {
          "base_uri": "https://localhost:8080/",
          "height": 148
        },
        "outputId": "21af65b6-8959-41a9-ea2d-c64fa4879e01"
      },
      "source": [
        "X_train"
      ],
      "execution_count": null,
      "outputs": [
        {
          "output_type": "execute_result",
          "data": {
            "text/plain": [
              "array([[ 0.82930634,  0.39311177, -0.10028201,  1.24449248,  1.69464753],\n",
              "       [-0.57440376,  1.57864015, -1.01675502, -1.42385089, -1.64543491],\n",
              "       [ 1.2972097 , -0.79241661,  0.91116498,  1.46709755, -1.49052982],\n",
              "       ...,\n",
              "       [-0.10650039,  0.98587596,  1.16779698,  1.33567321,  1.10895409],\n",
              "       [-1.51021049, -0.19965242, -0.07206538, -1.11793188,  0.19335399],\n",
              "       [ 0.36140297,  0.39311177, -0.27266576,  1.11335048,  1.31873312]])"
            ]
          },
          "metadata": {
            "tags": []
          },
          "execution_count": 60
        }
      ]
    },
    {
      "cell_type": "code",
      "metadata": {
        "id": "-LAO9dhwRkqN",
        "colab_type": "code",
        "colab": {
          "base_uri": "https://localhost:8080/",
          "height": 148
        },
        "outputId": "f5c26769-c430-4e14-8b5b-6657ef2da0e6"
      },
      "source": [
        "X_test"
      ],
      "execution_count": null,
      "outputs": [
        {
          "output_type": "execute_result",
          "data": {
            "text/plain": [
              "array([[ 1.76511307, -0.19965242, -0.67156841, -1.53611891,  1.23636494],\n",
              "       [-0.57440376,  1.57864015,  0.57989634,  1.44442784,  1.07436064],\n",
              "       [-1.97811385, -0.19965242, -1.12997779, -0.23587335, -1.73023661],\n",
              "       ...,\n",
              "       [ 0.36140297,  0.39311177, -1.47654049, -0.65218169,  0.34427728],\n",
              "       [-0.10650039,  0.98587596,  1.13324479, -0.2289616 , -1.52830664],\n",
              "       [ 1.76511307, -0.79241661, -0.29048496,  1.14521842,  1.16139798]])"
            ]
          },
          "metadata": {
            "tags": []
          },
          "execution_count": 61
        }
      ]
    },
    {
      "cell_type": "markdown",
      "metadata": {
        "id": "rTT2w0lTCuvj",
        "colab_type": "text"
      },
      "source": [
        "## Training the Linear regression model on the training set"
      ]
    },
    {
      "cell_type": "code",
      "metadata": {
        "id": "zTSirjYqRnXa",
        "colab_type": "code",
        "colab": {
          "base_uri": "https://localhost:8080/",
          "height": 36
        },
        "outputId": "16b3568a-9238-47b4-9bd6-3b1813f43edd"
      },
      "source": [
        "carbon_regression_model = LinearRegression()\n",
        "carbon_regression_model.fit(X_train,y_train)"
      ],
      "execution_count": null,
      "outputs": [
        {
          "output_type": "execute_result",
          "data": {
            "text/plain": [
              "LinearRegression(copy_X=True, fit_intercept=True, n_jobs=None, normalize=False)"
            ]
          },
          "metadata": {
            "tags": []
          },
          "execution_count": 62
        }
      ]
    },
    {
      "cell_type": "markdown",
      "metadata": {
        "id": "8T3AWG7KDLUL",
        "colab_type": "text"
      },
      "source": [
        "## Predicting the Test set results in regression model"
      ]
    },
    {
      "cell_type": "code",
      "metadata": {
        "id": "WBXhRyAauVJh",
        "colab_type": "code",
        "colab": {}
      },
      "source": [
        "y_predict = carbon_regression_model.predict(X_test)"
      ],
      "execution_count": null,
      "outputs": []
    },
    {
      "cell_type": "code",
      "metadata": {
        "id": "cUlPUyNyuxI8",
        "colab_type": "code",
        "colab": {
          "base_uri": "https://localhost:8080/",
          "height": 36
        },
        "outputId": "bcad14c9-18a4-4ff5-f199-64486c08afbe"
      },
      "source": [
        "r2_score(y_test,y_predict)"
      ],
      "execution_count": null,
      "outputs": [
        {
          "output_type": "execute_result",
          "data": {
            "text/plain": [
              "0.9992380186075627"
            ]
          },
          "metadata": {
            "tags": []
          },
          "execution_count": 64
        }
      ]
    },
    {
      "cell_type": "markdown",
      "metadata": {
        "id": "z3mBUEORDVRY",
        "colab_type": "text"
      },
      "source": [
        "print coefficients and intercept"
      ]
    },
    {
      "cell_type": "code",
      "metadata": {
        "id": "2MPibj_Yu7_B",
        "colab_type": "code",
        "colab": {
          "base_uri": "https://localhost:8080/",
          "height": 148
        },
        "outputId": "b8e8abef-84bd-47b2-848d-a96dee11a7d9"
      },
      "source": [
        "print('linear model coefficients :' , carbon_regression_model.coef_)\n",
        "print('linear model intercept :' , carbon_regression_model.intercept_)"
      ],
      "execution_count": null,
      "outputs": [
        {
          "output_type": "stream",
          "text": [
            "linear model coefficients : [[-1.97330523e-05 -3.47134407e-05  2.90335631e-01  6.55927520e-04\n",
            "   1.84077380e-04]\n",
            " [-1.31621303e-05 -2.89946768e-05  2.46025632e-04  2.91233264e-01\n",
            "   2.62000351e-04]\n",
            " [ 2.13757539e-04 -2.19541037e-04 -3.61508448e-04  2.77183882e-04\n",
            "   2.88368130e-01]]\n",
            "linear model intercept : [0.50257477 0.50172331 0.50042997]\n"
          ],
          "name": "stdout"
        }
      ]
    },
    {
      "cell_type": "markdown",
      "metadata": {
        "id": "_TFWd7mvDrve",
        "colab_type": "text"
      },
      "source": [
        "## Predicting on training set"
      ]
    },
    {
      "cell_type": "code",
      "metadata": {
        "id": "EWyOZLJeyj1B",
        "colab_type": "code",
        "colab": {}
      },
      "source": [
        "y_train_predict = carbon_regression_model.predict(X_train)"
      ],
      "execution_count": null,
      "outputs": []
    },
    {
      "cell_type": "markdown",
      "metadata": {
        "id": "zX7tWnh1D7j6",
        "colab_type": "text"
      },
      "source": [
        "## show the results"
      ]
    },
    {
      "cell_type": "code",
      "metadata": {
        "id": "U4g8sznVzoGI",
        "colab_type": "code",
        "colab": {
          "base_uri": "https://localhost:8080/",
          "height": 54
        },
        "outputId": "25cbe8b1-0069-4ad8-b36b-1a4fb4f7735d"
      },
      "source": [
        "print(\"The R2 score on the Train set is:\\t{:0.3f}\".format(r2_score(y_train, y_train_predict)))\n",
        "print(\"The R2 score on the Test set is:\\t{:0.3f}\".format(r2_score(y_test, y_predict)))"
      ],
      "execution_count": null,
      "outputs": [
        {
          "output_type": "stream",
          "text": [
            "The R2 score on the Train set is:\t0.999\n",
            "The R2 score on the Test set is:\t0.999\n"
          ],
          "name": "stdout"
        }
      ]
    },
    {
      "cell_type": "markdown",
      "metadata": {
        "id": "rp03Zw45FyHj",
        "colab_type": "text"
      },
      "source": [
        "## Applying k-Fold Cross Validation on SVR model"
      ]
    },
    {
      "cell_type": "code",
      "metadata": {
        "id": "dTRI3OlA0fEO",
        "colab_type": "code",
        "colab": {}
      },
      "source": [
        "carbon_svr_model = SVR()\n"
      ],
      "execution_count": null,
      "outputs": []
    },
    {
      "cell_type": "code",
      "metadata": {
        "id": "NYhRAJ_gPD2c",
        "colab_type": "code",
        "colab": {
          "base_uri": "https://localhost:8080/",
          "height": 54
        },
        "outputId": "effcf4fe-4636-49c4-dcaf-c0a908ef54d6"
      },
      "source": [
        "accuracies = cross_val_score(estimator= carbon_svr_model,X =X_train,y= y_train[:,1],cv= 10)\n",
        "print(\"accuracy: {:.2f}\".format(accuracies.mean()*100 ))\n",
        "print(\"standard Deviation: {:.2f}\".format(accuracies.std()*100))"
      ],
      "execution_count": null,
      "outputs": [
        {
          "output_type": "stream",
          "text": [
            "accuracy: 95.18\n",
            "standard Deviation: 0.16\n"
          ],
          "name": "stdout"
        }
      ]
    },
    {
      "cell_type": "code",
      "metadata": {
        "id": "mHVSQyRnPsrE",
        "colab_type": "code",
        "colab": {
          "base_uri": "https://localhost:8080/",
          "height": 54
        },
        "outputId": "2eb1562c-94fb-4961-9166-43c145207f74"
      },
      "source": [
        "accuracies = cross_val_score(estimator= carbon_svr_model,X =X_train,y= y_train[:,0],cv= 10)\n",
        "print(\"accuracy: {:.2f}\".format(accuracies.mean()*100 ))\n",
        "print(\"standard Deviation: {:.2f}\".format(accuracies.std()*100))"
      ],
      "execution_count": null,
      "outputs": [
        {
          "output_type": "stream",
          "text": [
            "accuracy: 95.37\n",
            "standard Deviation: 0.06\n"
          ],
          "name": "stdout"
        }
      ]
    },
    {
      "cell_type": "code",
      "metadata": {
        "id": "QIH8aH7nP8DE",
        "colab_type": "code",
        "colab": {
          "base_uri": "https://localhost:8080/",
          "height": 54
        },
        "outputId": "d6890fe1-e215-4789-b37b-b3e5cec9bfcf"
      },
      "source": [
        "accuracies = cross_val_score(estimator= carbon_svr_model,X =X_train,y= y_train[:,2],cv= 10)\n",
        "print(\"accuracy: {:.2f}\".format(accuracies.mean()*100 ))\n",
        "print(\"standard Deviation: {:.2f}\".format(accuracies.std()*100))"
      ],
      "execution_count": null,
      "outputs": [
        {
          "output_type": "stream",
          "text": [
            "accuracy: 97.15\n",
            "standard Deviation: 0.25\n"
          ],
          "name": "stdout"
        }
      ]
    }
  ]
}